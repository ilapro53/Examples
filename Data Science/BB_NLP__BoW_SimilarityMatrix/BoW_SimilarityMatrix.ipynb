{
  "cells": [
    {
      "cell_type": "markdown",
      "metadata": {
        "id": "vGhDg4qLnDYW"
      },
      "source": [
        "### Нахождениие матрицы схожести для валидационного сета"
      ]
    },
    {
      "cell_type": "code",
      "execution_count": null,
      "metadata": {
        "id": "j2C7XTf69stT"
      },
      "outputs": [],
      "source": [
        "# стоп-слова\n",
        "stop_words = [\n",
        "    'i', 'me', 'my', 'myself', 'we', 'our', 'ours', 'ourselves', 'you', \"you're\", \"you've\", \"you'll\", \"you'd\",\n",
        "    'your', 'yours', 'yourself', 'yourselves', 'he', 'him', 'his', 'himself', 'she', \"she's\", 'her', 'hers',\n",
        "    'herself', 'it', \"it's\", 'its', 'itself', 'they', 'them', 'their', 'theirs', 'themselves', 'what', 'which',\n",
        "    'who', 'whom', 'this', 'that', \"that'll\", 'these', 'those', 'am', 'is', 'are', 'was', 'were', 'be', 'been',\n",
        "    'being', 'have', 'has', 'had', 'having', 'do', 'does', 'did', 'doing', 'a', 'an', 'the', 'and', 'but', 'if',\n",
        "    'or', 'because', 'as', 'until', 'while', 'of', 'at', 'by', 'for', 'with', 'about', 'against', 'between',\n",
        "    'into', 'through', 'during', 'before', 'after', 'above', 'below', 'to', 'from', 'up', 'down', 'in', 'out',\n",
        "    'on', 'off', 'over', 'under', 'again', 'further', 'then', 'once', 'here', 'there', 'when', 'where', 'why',\n",
        "    'how', 'all', 'any', 'both', 'each', 'few', 'more', 'most', 'other', 'some', 'such', 'no', 'nor', 'not',\n",
        "    'only', 'own', 'same', 'so', 'than', 'too', 'very', 's', 't', 'can', 'will', 'just', 'don', \"don't\", 'shold',\n",
        "    \"should've\", 'now', 'd', 'll', 'm', 'o', 're', 've', 'y', 'ain', 'aren', \"aren't\", 'couldn', \"couldn't\",\n",
        "    'didn', \"didn't\", 'doesn', \"doesn't\", 'hadn', \"hadn't\", 'hasn', \"hasn't\", 'haven', \"haven't\", 'isn', \"isn't\",\n",
        "    'ma', 'mightn', \"mightn't\", 'mustn', \"mustn't\", 'needn', \"needn't\", 'shan', \"shan't\", 'shouldn', \"shouldn't\",\n",
        "    'wasn', \"wasn't\", 'weren', \"weren't\", 'won', \"won't\", 'wouldn', \"wouldn't\"\n",
        "]"
      ]
    },
    {
      "cell_type": "code",
      "execution_count": null,
      "metadata": {
        "colab": {
          "base_uri": "https://localhost:8080/"
        },
        "id": "krkc6JvTnDYa",
        "outputId": "188bb98c-5a1c-4d2e-c829-0b4ca96faa2f"
      },
      "outputs": [
        {
          "name": "stderr",
          "output_type": "stream",
          "text": [
            "[nltk_data] Downloading package punkt to /root/nltk_data...\n",
            "[nltk_data]   Package punkt is already up-to-date!\n",
            "/usr/local/lib/python3.10/dist-packages/sklearn/feature_extraction/text.py:528: UserWarning: The parameter 'token_pattern' will not be used since 'tokenizer' is not None'\n",
            "  warnings.warn(\n"
          ]
        },
        {
          "data": {
            "text/plain": [
              "<402x1760 sparse matrix of type '<class 'numpy.int64'>'\n",
              "\twith 4927 stored elements in Compressed Sparse Row format>"
            ]
          },
          "execution_count": 2,
          "metadata": {},
          "output_type": "execute_result"
        }
      ],
      "source": [
        "import pandas as pd\n",
        "\n",
        "df_valid = pd.read_csv('brand_tweets_valid.csv', sep=',', encoding='utf8')\n",
        "df_valid.drop(df_valid[df_valid.tweet_text.isnull()].index, inplace=True)\n",
        "\n",
        "from sklearn.feature_extraction.text import CountVectorizer # BoW\n",
        "import nltk\n",
        "import string\n",
        "import pandas as pd\n",
        "from itertools import chain\n",
        "import numpy as np\n",
        "\n",
        "nltk.download('punkt')\n",
        "\n",
        "def tokenize_text(raw_text: str):\n",
        "  tokenized_str = nltk.word_tokenize(raw_text)\n",
        "  tokens = [i.lower() for i in tokenized_str if (i not in string.punctuation)]\n",
        "  filtered_tokens = [i for i in tokens if (i not in stop_words)]\n",
        "  return filtered_tokens\n",
        "\n",
        "vectorizer = CountVectorizer(tokenizer=tokenize_text)\n",
        "document_matrix = vectorizer.fit_transform(df_valid.tweet_text.values)\n",
        "document_matrix"
      ]
    },
    {
      "cell_type": "code",
      "execution_count": null,
      "metadata": {
        "colab": {
          "base_uri": "https://localhost:8080/"
        },
        "id": "kJ4X0gDCAE1H",
        "outputId": "2e1beab2-b0b4-4a5d-c6f1-0cf7bb0c9ff8"
      },
      "outputs": [
        {
          "data": {
            "text/plain": [
              "(402, 402)"
            ]
          },
          "execution_count": 3,
          "metadata": {},
          "output_type": "execute_result"
        }
      ],
      "source": [
        "from sklearn.metrics import pairwise_distances\n",
        "tweet_distance = pairwise_distances(document_matrix, metric=\"cosine\") # косинусное расстояние\n",
        "tweet_distance.shape"
      ]
    },
    {
      "cell_type": "markdown",
      "metadata": {
        "id": "RQ7_b8FbnDYg"
      },
      "source": [
        "### top-5 твитов, похожих на твит валидационного сета с `id=14`."
      ]
    },
    {
      "cell_type": "code",
      "execution_count": null,
      "metadata": {
        "colab": {
          "base_uri": "https://localhost:8080/"
        },
        "id": "SgmUriXSnDYh",
        "outputId": "6d8dafbc-8d38-447b-89de-5a70356fcea1"
      },
      "outputs": [
        {
          "name": "stdout",
          "output_type": "stream",
          "text": [
            "Popup Apple Store crew has been giving out water to the people in line but they are in street clothes. No Apple logos anywhere yet. #SXSW\n",
            "------------------------------\n",
            "\n",
            "id top-5 твитов, похожих на твит валидационного сета с id=14 (кроме его самого):\n",
            "[132, 16, 163, 6, 341]\n"
          ]
        }
      ],
      "source": [
        "test_tweet_index = 14\n",
        "\n",
        "print(df_valid.iloc[test_tweet_index].tweet_text+'\\n------------------------------\\n')\n",
        "\n",
        "sorted_similarity = np.argsort(tweet_distance[test_tweet_index,:])\n",
        "\n",
        "print('id top-5 твитов, похожих на твит валидационного сета с id=14 (кроме его самого):')\n",
        "print(list(sorted_similarity[sorted_similarity != 14][:5]))"
      ]
    },
    {
      "cell_type": "markdown",
      "metadata": {
        "id": "HdW_C-ninDYm"
      },
      "source": [
        "### Поиск дубликатов в тексте"
      ]
    },
    {
      "cell_type": "code",
      "execution_count": null,
      "metadata": {
        "colab": {
          "base_uri": "https://localhost:8080/"
        },
        "id": "4l1g03GtvFkO",
        "outputId": "7bdfdc21-a241-42d5-f446-c3331d6d7422"
      },
      "outputs": [
        {
          "name": "stdout",
          "output_type": "stream",
          "text": [
            "Shape: (402, 402)\n",
            "Count: 161604\n",
            "min, max: 0.0, 1.0\n"
          ]
        }
      ],
      "source": [
        "print('Shape:', tweet_distance.shape)\n",
        "print('Count:', tweet_distance.shape[0]*tweet_distance.shape[1])\n",
        "print('min, max: {min}, {max}'.format(\n",
        "    min=tweet_distance.min(),\n",
        "    max=tweet_distance.max()\n",
        "))"
      ]
    },
    {
      "cell_type": "code",
      "execution_count": null,
      "metadata": {
        "colab": {
          "base_uri": "https://localhost:8080/",
          "height": 430
        },
        "id": "tEVocl2mnDYn",
        "outputId": "bd425758-58b6-4795-978f-0ed6a08f8f42"
      },
      "outputs": [
        {
          "data": {
            "image/png": "[encoded data removed]",
            "text/plain": [
              "<Figure size 640x480 with 1 Axes>"
            ]
          },
          "metadata": {},
          "output_type": "display_data"
        }
      ],
      "source": [
        "from matplotlib import pyplot as plt\n",
        "\n",
        "plt.hist(\n",
        "    tweet_distance.reshape(\n",
        "        (tweet_distance.shape[0]*tweet_distance.shape[1], 1)\n",
        "    ),\n",
        "    bins=30\n",
        ");"
      ]
    },
    {
      "cell_type": "code",
      "execution_count": null,
      "metadata": {
        "colab": {
          "base_uri": "https://localhost:8080/"
        },
        "id": "ANxgNi3_ydDT",
        "outputId": "eecc9428-ae96-4f20-e27e-a3e54a846904"
      },
      "outputs": [
        {
          "data": {
            "text/plain": [
              "(array([  0,   1,   4,   7,   8,   9,  10,  11,  18,  19,  25,  26,  27,\n",
              "         30,  32,  33,  34,  36,  37,  38,  39,  40,  41,  43,  44,  45,\n",
              "         46,  48,  50,  52,  54,  56,  57,  59,  60,  61,  66,  70,  73,\n",
              "         74,  75,  76,  77,  79,  80,  82,  83,  84,  85,  86,  87,  89,\n",
              "         90,  91,  92,  93,  94,  95,  96,  97, 100, 101, 102, 103, 104,\n",
              "        105, 106, 107, 108, 110, 111, 112, 113, 114, 115, 116, 117, 119,\n",
              "        122, 124, 125, 126, 127, 128, 130, 137, 140, 141, 142, 143, 144,\n",
              "        145, 146, 147, 148, 149, 151, 152, 153, 154, 155, 156, 157, 159,\n",
              "        160, 161, 162, 164, 165, 166, 167, 168, 169, 170, 171, 172, 173,\n",
              "        174, 175, 176, 177, 178, 179, 180, 181, 182, 183, 184, 185, 187,\n",
              "        188, 189, 190, 191, 193, 194, 196, 197, 198, 199, 201, 202, 208,\n",
              "        209, 210, 211, 213, 214, 216, 217, 218, 220, 221, 222, 223, 227,\n",
              "        228, 229, 230, 232, 233, 234, 235, 236, 237, 239, 240, 241, 242,\n",
              "        243, 244, 245, 246, 247, 248, 249, 250, 251, 252, 253, 254, 255,\n",
              "        256, 257, 258, 261, 262, 263, 264, 265, 266, 267, 268, 269, 270,\n",
              "        271, 272, 273, 274, 276, 277, 278, 280, 281, 282, 283, 284, 285,\n",
              "        286, 289, 290, 291, 294, 295, 298, 299, 302, 303, 304, 305, 306,\n",
              "        307, 308, 309, 311, 312, 315, 316, 317, 318, 320, 322, 323, 324,\n",
              "        325, 326, 327, 329, 332, 333, 334, 335, 336, 337, 338, 339, 340,\n",
              "        342, 344, 345, 346, 347, 348, 349, 350, 353, 355, 356, 359, 360,\n",
              "        362, 363, 364, 365, 366, 367, 368, 369, 370, 371, 372, 373, 374,\n",
              "        375, 376, 378, 379, 382, 383, 385, 386, 387, 388, 389, 391, 392,\n",
              "        393, 394, 396, 397, 398, 399, 401]),)"
            ]
          },
          "execution_count": 37,
          "metadata": {},
          "output_type": "execute_result"
        }
      ],
      "source": [
        "def find_similar(index: int, matrix, threshold: float):\n",
        "  similarity_vector = tweet_distance[test_tweet_index,:]\n",
        "  return np.where(similarity_vector > threshold)\n",
        "\n",
        "find_similar(\n",
        "    index=14,\n",
        "    matrix=document_matrix,\n",
        "    threshold=0.85\n",
        ")"
      ]
    }
  ],
  "metadata": {
    "colab": {
      "provenance": []
    },
    "kernelspec": {
      "display_name": "Python 3",
      "language": "python",
      "name": "python3"
    },
    "language_info": {
      "codemirror_mode": {
        "name": "ipython",
        "version": 3
      },
      "file_extension": ".py",
      "mimetype": "text/x-python",
      "name": "python",
      "nbconvert_exporter": "python",
      "pygments_lexer": "ipython3",
      "version": "3.6.3"
    }
  },
  "nbformat": 4,
  "nbformat_minor": 0
}
