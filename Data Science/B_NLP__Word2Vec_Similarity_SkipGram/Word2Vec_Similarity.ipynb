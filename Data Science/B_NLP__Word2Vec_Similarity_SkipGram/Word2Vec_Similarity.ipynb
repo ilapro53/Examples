{
  "cells": [
    {
      "cell_type": "markdown",
      "metadata": {
        "id": "5SGn801yaveE"
      },
      "source": [
        "- Обучить модель Skip-Gram (`sg=1`)\n",
        "- Выяснить какие top-10 слов больше всего похожи на слово `iphone`?"
      ]
    },
    {
      "cell_type": "code",
      "execution_count": null,
      "metadata": {
        "colab": {
          "base_uri": "https://localhost:8080/"
        },
        "id": "2OB_9UDQIHsG",
        "outputId": "5215b358-9164-4888-f7d2-a8f5a356d6a6"
      },
      "outputs": [
        {
          "name": "stderr",
          "output_type": "stream",
          "text": [
            "[nltk_data] Downloading package punkt to /root/nltk_data...\n",
            "[nltk_data]   Unzipping tokenizers/punkt.zip.\n"
          ]
        }
      ],
      "source": [
        "# стоп-слова\n",
        "stop_words = [\n",
        "    'i', 'me', 'my', 'myself', 'we', 'our', 'ours', 'ourselves', 'you', \"you're\", \"you've\", \"you'll\", \"you'd\",\n",
        "    'your', 'yours', 'yourself', 'yourselves', 'he', 'him', 'his', 'himself', 'she', \"she's\", 'her', 'hers',\n",
        "    'herself', 'it', \"it's\", 'its', 'itself', 'they', 'them', 'their', 'theirs', 'themselves', 'what', 'which',\n",
        "    'who', 'whom', 'this', 'that', \"that'll\", 'these', 'those', 'am', 'is', 'are', 'was', 'were', 'be', 'been',\n",
        "    'being', 'have', 'has', 'had', 'having', 'do', 'does', 'did', 'doing', 'a', 'an', 'the', 'and', 'but', 'if',\n",
        "    'or', 'because', 'as', 'until', 'while', 'of', 'at', 'by', 'for', 'with', 'about', 'against', 'between',\n",
        "    'into', 'through', 'during', 'before', 'after', 'above', 'below', 'to', 'from', 'up', 'down', 'in', 'out',\n",
        "    'on', 'off', 'over', 'under', 'again', 'further', 'then', 'once', 'here', 'there', 'when', 'where', 'why',\n",
        "    'how', 'all', 'any', 'both', 'each', 'few', 'more', 'most', 'other', 'some', 'such', 'no', 'nor', 'not',\n",
        "    'only', 'own', 'same', 'so', 'than', 'too', 'very', 's', 't', 'can', 'will', 'just', 'don', \"don't\", 'shold',\n",
        "    \"should've\", 'now', 'd', 'll', 'm', 'o', 're', 've', 'y', 'ain', 'aren', \"aren't\", 'couldn', \"couldn't\",\n",
        "    'didn', \"didn't\", 'doesn', \"doesn't\", 'hadn', \"hadn't\", 'hasn', \"hasn't\", 'haven', \"haven't\", 'isn', \"isn't\",\n",
        "    'ma', 'mightn', \"mightn't\", 'mustn', \"mustn't\", 'needn', \"needn't\", 'shan', \"shan't\", 'shouldn', \"shouldn't\",\n",
        "    'wasn', \"wasn't\", 'weren', \"weren't\", 'won', \"won't\", 'wouldn', \"wouldn't\"\n",
        "]\n",
        "\n",
        "from sklearn.feature_extraction.text import CountVectorizer\n",
        "import nltk\n",
        "import string\n",
        "import pandas as pd\n",
        "from itertools import chain\n",
        "import numpy as np\n",
        "\n",
        "nltk.download('punkt')\n",
        "\n",
        "def tokenize_text(raw_text: str):\n",
        "  tokenized_str = nltk.word_tokenize(raw_text)\n",
        "  tokens = [i.lower() for i in tokenized_str if (i not in string.punctuation)]\n",
        "  filtered_tokens = [i for i in tokens if (i not in stop_words)]\n",
        "  return filtered_tokens"
      ]
    },
    {
      "cell_type": "code",
      "execution_count": null,
      "metadata": {
        "id": "NRQqra40KBPS"
      },
      "outputs": [],
      "source": [
        "help(Word2Vec)"
      ]
    },
    {
      "cell_type": "code",
      "execution_count": null,
      "metadata": {
        "colab": {
          "base_uri": "https://localhost:8080/"
        },
        "id": "MKl_QAtOaved",
        "outputId": "6c9783ab-4c36-4ffb-c9e6-d3126c93bd84"
      },
      "outputs": [
        {
          "name": "stdout",
          "output_type": "stream",
          "text": [
            "Топ 10 слов, похожих на \"iphone\":\n"
          ]
        },
        {
          "data": {
            "text/plain": [
              "[('music', 0.9978992938995361),\n",
              " ('alamo', 0.9952543377876282),\n",
              " ('prepared', 0.9942829608917236),\n",
              " ('team', 0.9938850998878479),\n",
              " ('regularly', 0.9938767552375793),\n",
              " ('brilliant', 0.9938464164733887),\n",
              " ('week', 0.9936713576316833),\n",
              " ('gets', 0.9934936761856079),\n",
              " ('ipads', 0.9934486746788025),\n",
              " ('get', 0.993252694606781)]"
            ]
          },
          "execution_count": 20,
          "metadata": {},
          "output_type": "execute_result"
        }
      ],
      "source": [
        "from gensim.models import Word2Vec\n",
        "import logging\n",
        "\n",
        "logging.basicConfig(format='%(asctime)s : %(levelname)s : %(message)s', level=logging.INFO)\n",
        "\n",
        "df = pd.read_csv('brand_tweets_valid.csv')\n",
        "df['tokenized_tweets'] = df.tweet_text.apply(tokenize_text)\n",
        "df.head()\n",
        "\n",
        "texts = df.tokenized_tweets.values\n",
        "model = Word2Vec(texts, vector_size=10, window=7, min_count=2, workers=4, epochs=10, sg=1)\n",
        "\n",
        "print('Топ 10 слов, похожих на \"iphone\":')\n",
        "model.wv.most_similar('iphone')"
      ]
    }
  ],
  "metadata": {
    "colab": {
      "provenance": []
    },
    "kernelspec": {
      "display_name": "Python 3",
      "language": "python",
      "name": "python3"
    },
    "language_info": {
      "codemirror_mode": {
        "name": "ipython",
        "version": 3
      },
      "file_extension": ".py",
      "mimetype": "text/x-python",
      "name": "python",
      "nbconvert_exporter": "python",
      "pygments_lexer": "ipython3",
      "version": "3.6.3"
    }
  },
  "nbformat": 4,
  "nbformat_minor": 0
}
